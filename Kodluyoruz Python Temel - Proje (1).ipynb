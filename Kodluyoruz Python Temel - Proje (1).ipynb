{
 "cells": [
  {
   "cell_type": "code",
   "execution_count": 5,
   "metadata": {},
   "outputs": [
    {
     "name": "stdout",
     "output_type": "stream",
     "text": [
      "[11, 'aylin', 22, 'kodluyoruz', 17, 111, 55]\n",
      "[[3, 'yılmaz', 17], [22, 11], ['kodluyoruz', 'aylin']]\n"
     ]
    }
   ],
   "source": [
    "#1- Bir listeyi düzleştiren (flatten) fonksiyon yazın. \n",
    "#Elemanları birden çok katmanlı listtlerden ([[3],2] gibi) oluşabileceği gibi, non-scalar verilerden de oluşabilir. \n",
    "\n",
    "# 2- Verilen listenin içindeki elemanları tersine döndüren bir fonksiyon yazın. \n",
    "#Eğer listenin içindeki elemanlar da liste içeriyorsa onların elemanlarını da tersine döndürün.\n",
    "\n",
    "from collections.abc import Iterable\n",
    " \n",
    "def flatten(l):\n",
    "    for el in l:\n",
    "        if isinstance(el, Iterable) and not isinstance(el, (str, bytes)):\n",
    "            yield from flatten(el)\n",
    "        else:\n",
    "            yield el\n",
    "\n",
    "def returnList(l):\n",
    "    return list(flatten(l))\n",
    "\n",
    "print(returnList([[11,['aylin'],22],[[\"kodluyoruz\"],17],111,55]))\n",
    "\n",
    "def reverseList(l):\n",
    "    l.reverse()\n",
    "    for i in l:\n",
    "        if isinstance(i, Iterable) and not isinstance(i, (str, bytes)):\n",
    "            i.reverse()\n",
    "    return l\n",
    "\n",
    "print(reverseList([[\"aylin\", \"kodluyoruz\"], [11, 22], [17, \"yılmaz\", 3]]))"
   ]
  },
  {
   "cell_type": "code",
   "execution_count": null,
   "metadata": {},
   "outputs": [],
   "source": []
  }
 ],
 "metadata": {
  "kernelspec": {
   "display_name": "Python 3",
   "language": "python",
   "name": "python3"
  },
  "language_info": {
   "codemirror_mode": {
    "name": "ipython",
    "version": 3
   },
   "file_extension": ".py",
   "mimetype": "text/x-python",
   "name": "python",
   "nbconvert_exporter": "python",
   "pygments_lexer": "ipython3",
   "version": "3.8.5"
  }
 },
 "nbformat": 4,
 "nbformat_minor": 4
}
